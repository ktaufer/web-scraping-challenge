{
 "cells": [
  {
   "cell_type": "markdown",
   "metadata": {},
   "source": [
    "## Observations and Insights\n",
    "\n",
    "1. The only two drug regimens that could decrease tumor volume were Capomulin and Ramicane, since those animals saw a decrease in tumor volume by the end of the trial, and in all the other drug trials, tumor weight increased from the original value.\n",
    "2. It would be interesting to compare final tumor volumes between male and female animals to see if there an effect of sex on drug treatment outcomes.\n",
    "3. There is a lower variance to the tumor volumes for the Capomulin and Ramicane groups than the other drug regimens. Is this because there are more data points in those groups? Perhaps there are more data points in those groups because by shrinking tumors, those drugs helped the animals to survive longer, thus accrewing more timepoint entries."
   ]
  },
  {
   "cell_type": "markdown",
   "metadata": {},
   "source": [
    "## Dependencies and starter code"
   ]
  },
  {
   "cell_type": "code",
   "execution_count": 2,
   "metadata": {},
   "outputs": [
    {
     "data": {
      "text/html": [
       "<div>\n",
       "<style scoped>\n",
       "    .dataframe tbody tr th:only-of-type {\n",
       "        vertical-align: middle;\n",
       "    }\n",
       "\n",
       "    .dataframe tbody tr th {\n",
       "        vertical-align: top;\n",
       "    }\n",
       "\n",
       "    .dataframe thead th {\n",
       "        text-align: right;\n",
       "    }\n",
       "</style>\n",
       "<table border=\"1\" class=\"dataframe\">\n",
       "  <thead>\n",
       "    <tr style=\"text-align: right;\">\n",
       "      <th></th>\n",
       "      <th>Mouse ID</th>\n",
       "      <th>Drug Regimen</th>\n",
       "      <th>Sex</th>\n",
       "      <th>Age_months</th>\n",
       "      <th>Weight (g)</th>\n",
       "      <th>Timepoint</th>\n",
       "      <th>Tumor Volume (mm3)</th>\n",
       "      <th>Metastatic Sites</th>\n",
       "    </tr>\n",
       "  </thead>\n",
       "  <tbody>\n",
       "    <tr>\n",
       "      <th>0</th>\n",
       "      <td>k403</td>\n",
       "      <td>Ramicane</td>\n",
       "      <td>Male</td>\n",
       "      <td>21</td>\n",
       "      <td>16</td>\n",
       "      <td>0</td>\n",
       "      <td>45.000000</td>\n",
       "      <td>0</td>\n",
       "    </tr>\n",
       "    <tr>\n",
       "      <th>1</th>\n",
       "      <td>k403</td>\n",
       "      <td>Ramicane</td>\n",
       "      <td>Male</td>\n",
       "      <td>21</td>\n",
       "      <td>16</td>\n",
       "      <td>5</td>\n",
       "      <td>38.825898</td>\n",
       "      <td>0</td>\n",
       "    </tr>\n",
       "    <tr>\n",
       "      <th>2</th>\n",
       "      <td>k403</td>\n",
       "      <td>Ramicane</td>\n",
       "      <td>Male</td>\n",
       "      <td>21</td>\n",
       "      <td>16</td>\n",
       "      <td>10</td>\n",
       "      <td>35.014271</td>\n",
       "      <td>1</td>\n",
       "    </tr>\n",
       "    <tr>\n",
       "      <th>3</th>\n",
       "      <td>k403</td>\n",
       "      <td>Ramicane</td>\n",
       "      <td>Male</td>\n",
       "      <td>21</td>\n",
       "      <td>16</td>\n",
       "      <td>15</td>\n",
       "      <td>34.223992</td>\n",
       "      <td>1</td>\n",
       "    </tr>\n",
       "    <tr>\n",
       "      <th>4</th>\n",
       "      <td>k403</td>\n",
       "      <td>Ramicane</td>\n",
       "      <td>Male</td>\n",
       "      <td>21</td>\n",
       "      <td>16</td>\n",
       "      <td>20</td>\n",
       "      <td>32.997729</td>\n",
       "      <td>1</td>\n",
       "    </tr>\n",
       "  </tbody>\n",
       "</table>\n",
       "</div>"
      ],
      "text/plain": [
       "  Mouse ID Drug Regimen   Sex  Age_months  Weight (g)  Timepoint  \\\n",
       "0     k403     Ramicane  Male          21          16          0   \n",
       "1     k403     Ramicane  Male          21          16          5   \n",
       "2     k403     Ramicane  Male          21          16         10   \n",
       "3     k403     Ramicane  Male          21          16         15   \n",
       "4     k403     Ramicane  Male          21          16         20   \n",
       "\n",
       "   Tumor Volume (mm3)  Metastatic Sites  \n",
       "0           45.000000                 0  \n",
       "1           38.825898                 0  \n",
       "2           35.014271                 1  \n",
       "3           34.223992                 1  \n",
       "4           32.997729                 1  "
      ]
     },
     "execution_count": 2,
     "metadata": {},
     "output_type": "execute_result"
    }
   ],
   "source": [
    "# Dependencies and Setup\n",
    "import matplotlib.pyplot as plt\n",
    "import pandas as pd\n",
    "import scipy.stats as st\n",
    "import numpy as np\n",
    "# Study data files\n",
    "mouse_metadata = \"data/Mouse_metadata.csv\"\n",
    "study_results = \"data/Study_results.csv\"\n",
    "\n",
    "# Read the mouse data and the study results\n",
    "mouse_data = pd.read_csv(mouse_metadata)\n",
    "results = pd.read_csv(study_results)\n",
    "\n",
    "# Combine the data into a single dataset\n",
    "merged=pd.merge(mouse_data, results, on=\"Mouse ID\",how='outer')\n",
    "merged.head()"
   ]
  },
  {
   "cell_type": "markdown",
   "metadata": {},
   "source": [
    "## Summary statistics"
   ]
  },
  {
   "cell_type": "code",
   "execution_count": 3,
   "metadata": {},
   "outputs": [
    {
     "name": "stdout",
     "output_type": "stream",
     "text": [
      "Summary of Tumor Volume By Drug Regimen\n"
     ]
    },
    {
     "data": {
      "text/html": [
       "<div>\n",
       "<style scoped>\n",
       "    .dataframe tbody tr th:only-of-type {\n",
       "        vertical-align: middle;\n",
       "    }\n",
       "\n",
       "    .dataframe tbody tr th {\n",
       "        vertical-align: top;\n",
       "    }\n",
       "\n",
       "    .dataframe thead th {\n",
       "        text-align: right;\n",
       "    }\n",
       "</style>\n",
       "<table border=\"1\" class=\"dataframe\">\n",
       "  <thead>\n",
       "    <tr style=\"text-align: right;\">\n",
       "      <th>Drug Regimen</th>\n",
       "      <th>Capomulin</th>\n",
       "      <th>Ceftamin</th>\n",
       "      <th>Infubinol</th>\n",
       "      <th>Ketapril</th>\n",
       "      <th>Naftisol</th>\n",
       "      <th>Placebo</th>\n",
       "      <th>Propriva</th>\n",
       "      <th>Ramicane</th>\n",
       "      <th>Stelasyn</th>\n",
       "      <th>Zoniferol</th>\n",
       "    </tr>\n",
       "  </thead>\n",
       "  <tbody>\n",
       "    <tr>\n",
       "      <th>Mean Volume</th>\n",
       "      <td>40.675741</td>\n",
       "      <td>52.591172</td>\n",
       "      <td>52.884795</td>\n",
       "      <td>55.235638</td>\n",
       "      <td>54.331565</td>\n",
       "      <td>54.033581</td>\n",
       "      <td>52.322552</td>\n",
       "      <td>40.216745</td>\n",
       "      <td>54.233149</td>\n",
       "      <td>53.236507</td>\n",
       "    </tr>\n",
       "    <tr>\n",
       "      <th>Median Volume</th>\n",
       "      <td>41.557809</td>\n",
       "      <td>51.776157</td>\n",
       "      <td>51.820584</td>\n",
       "      <td>53.698743</td>\n",
       "      <td>52.509285</td>\n",
       "      <td>52.288934</td>\n",
       "      <td>50.854632</td>\n",
       "      <td>40.673236</td>\n",
       "      <td>52.431737</td>\n",
       "      <td>51.818479</td>\n",
       "    </tr>\n",
       "    <tr>\n",
       "      <th>Volume Variance</th>\n",
       "      <td>24.947764</td>\n",
       "      <td>39.290177</td>\n",
       "      <td>43.128684</td>\n",
       "      <td>68.553577</td>\n",
       "      <td>66.173479</td>\n",
       "      <td>61.168083</td>\n",
       "      <td>42.351070</td>\n",
       "      <td>23.486704</td>\n",
       "      <td>59.450562</td>\n",
       "      <td>48.533355</td>\n",
       "    </tr>\n",
       "    <tr>\n",
       "      <th>Volume Standard Deviation</th>\n",
       "      <td>4.994774</td>\n",
       "      <td>6.268188</td>\n",
       "      <td>6.567243</td>\n",
       "      <td>8.279709</td>\n",
       "      <td>8.134708</td>\n",
       "      <td>7.821003</td>\n",
       "      <td>6.507770</td>\n",
       "      <td>4.846308</td>\n",
       "      <td>7.710419</td>\n",
       "      <td>6.966589</td>\n",
       "    </tr>\n",
       "    <tr>\n",
       "      <th>Volume Standard Error</th>\n",
       "      <td>0.329346</td>\n",
       "      <td>0.469821</td>\n",
       "      <td>0.492236</td>\n",
       "      <td>0.603860</td>\n",
       "      <td>0.596466</td>\n",
       "      <td>0.581331</td>\n",
       "      <td>0.512884</td>\n",
       "      <td>0.320955</td>\n",
       "      <td>0.573111</td>\n",
       "      <td>0.516398</td>\n",
       "    </tr>\n",
       "  </tbody>\n",
       "</table>\n",
       "</div>"
      ],
      "text/plain": [
       "Drug Regimen               Capomulin   Ceftamin  Infubinol   Ketapril  \\\n",
       "Mean Volume                40.675741  52.591172  52.884795  55.235638   \n",
       "Median Volume              41.557809  51.776157  51.820584  53.698743   \n",
       "Volume Variance            24.947764  39.290177  43.128684  68.553577   \n",
       "Volume Standard Deviation   4.994774   6.268188   6.567243   8.279709   \n",
       "Volume Standard Error       0.329346   0.469821   0.492236   0.603860   \n",
       "\n",
       "Drug Regimen                Naftisol    Placebo   Propriva   Ramicane  \\\n",
       "Mean Volume                54.331565  54.033581  52.322552  40.216745   \n",
       "Median Volume              52.509285  52.288934  50.854632  40.673236   \n",
       "Volume Variance            66.173479  61.168083  42.351070  23.486704   \n",
       "Volume Standard Deviation   8.134708   7.821003   6.507770   4.846308   \n",
       "Volume Standard Error       0.596466   0.581331   0.512884   0.320955   \n",
       "\n",
       "Drug Regimen                Stelasyn  Zoniferol  \n",
       "Mean Volume                54.233149  53.236507  \n",
       "Median Volume              52.431737  51.818479  \n",
       "Volume Variance            59.450562  48.533355  \n",
       "Volume Standard Deviation   7.710419   6.966589  \n",
       "Volume Standard Error       0.573111   0.516398  "
      ]
     },
     "execution_count": 3,
     "metadata": {},
     "output_type": "execute_result"
    }
   ],
   "source": [
    "# Generate a summary statistics table of mean, median, variance, standard deviation, and SEM of the tumor volume for \n",
    "#each regimen\n",
    "regimen=merged.groupby('Drug Regimen')\n",
    "meanvolume=regimen[\"Tumor Volume (mm3)\"].mean()\n",
    "medianvolume=regimen[\"Tumor Volume (mm3)\"].median()\n",
    "variancevolume=regimen[\"Tumor Volume (mm3)\"].var()\n",
    "SDvolume=regimen[\"Tumor Volume (mm3)\"].std()\n",
    "SEMvolume=regimen[\"Tumor Volume (mm3)\"].sem()\n",
    "\n",
    "volumedf=pd.DataFrame([meanvolume,medianvolume,variancevolume,SDvolume,SEMvolume],\n",
    "                     [\"Mean Volume\",\"Median Volume\",\"Volume Variance\",\"Volume Standard Deviation\",\"Volume Standard Error\"])\n",
    "print(\"Summary of Tumor Volume By Drug Regimen\")\n",
    "volumedf"
   ]
  },
  {
   "cell_type": "markdown",
   "metadata": {},
   "source": [
    "## Bar plots"
   ]
  },
  {
   "cell_type": "code",
   "execution_count": 4,
   "metadata": {},
   "outputs": [
    {
     "data": {
      "text/plain": [
       "Text(0.5, 1.0, 'Data Points per Drug Regimen')"
      ]
     },
     "execution_count": 4,
     "metadata": {},
     "output_type": "execute_result"
    },
    {
     "data": {
      "image/png": "[encoded data removed]",
      "text/plain": [
       "<Figure size 432x288 with 1 Axes>"
      ]
     },
     "metadata": {
      "needs_background": "light"
     },
     "output_type": "display_data"
    }
   ],
   "source": [
    "# Generate a bar plot showing number of data points for each treatment regimen using pandas\n",
    "cap=len(merged.loc[merged[\"Drug Regimen\"]==\"Capomulin\"])\n",
    "cef=len(merged.loc[merged[\"Drug Regimen\"]==\"Ceftamin\"])\n",
    "inf=len(merged.loc[merged[\"Drug Regimen\"]==\"Infubinol\"])\n",
    "ket=len(merged.loc[merged[\"Drug Regimen\"]==\"Ketapril\"])\n",
    "naf=len(merged.loc[merged[\"Drug Regimen\"]==\"Naftisol\"])\n",
    "pla=len(merged.loc[merged[\"Drug Regimen\"]==\"Placebo\"])\n",
    "pro=len(merged.loc[merged[\"Drug Regimen\"]==\"Propriva\"])\n",
    "ram=len(merged.loc[merged[\"Drug Regimen\"]==\"Ramicane\"])\n",
    "ste=len(merged.loc[merged[\"Drug Regimen\"]==\"Stelasyn\"])\n",
    "zon=len(merged.loc[merged[\"Drug Regimen\"]==\"Zoniferol\"])\n",
    "\n",
    "drugs=['Capomulin','Ceftamin','Infubinol','Ketapril','Naftisol','Placebo','Propriva','Ramicane','Stelasyn','Zoniferol']\n",
    "frequency=[cap,cef,inf,ket,naf,pla,pro,ram,ste,zon]\n",
    "\n",
    "drug_dict={\"Drug Regimen\":pd.Series(drugs),\"Number of Entries\":pd.Series(frequency)}\n",
    "data_points=pd.DataFrame(drug_dict)\n",
    "\n",
    "graph=data_points.plot.bar(x=\"Drug Regimen\",y=\"Number of Entries\",legend=False)\n",
    "graph.set_title('Data Points per Drug Regimen')"
   ]
  },
  {
   "cell_type": "code",
   "execution_count": 5,
   "metadata": {},
   "outputs": [
    {
     "data": {
      "text/plain": [
       "Text(0, 0.5, 'Number of Entries')"
      ]
     },
     "execution_count": 5,
     "metadata": {},
     "output_type": "execute_result"
    },
    {
     "data": {
      "image/png": "[encoded data removed]",
      "text/plain": [
       "<Figure size 432x288 with 1 Axes>"
      ]
     },
     "metadata": {
      "needs_background": "light"
     },
     "output_type": "display_data"
    }
   ],
   "source": [
    "# Generate a bar plot showing number of data points for each treatment regimen using pyplot\n",
    "plt.bar(drugs,frequency, align='center')\n",
    "plt.xticks(rotation='vertical')\n",
    "plt.title(\"Data Points Per Drug Regimen\")\n",
    "plt.xlabel(\"Drug Regimen\")\n",
    "plt.ylabel(\"Number of Entries\")"
   ]
  },
  {
   "cell_type": "markdown",
   "metadata": {},
   "source": [
    "## Pie plots\n",
    "\n"
   ]
  },
  {
   "cell_type": "code",
   "execution_count": 6,
   "metadata": {},
   "outputs": [
    {
     "data": {
      "text/plain": [
       "Male      125\n",
       "Female    124\n",
       "Name: Sex, dtype: int64"
      ]
     },
     "execution_count": 6,
     "metadata": {},
     "output_type": "execute_result"
    }
   ],
   "source": [
    "#To find the sex of each individual mouse, disregarding repeated 'Sex' entries per mouse\n",
    "merged2 = pd.DataFrame(merged.groupby(['Mouse ID']).apply(lambda x: x['Sex'].value_counts().reset_index()))\n",
    "merged2=merged2.rename(columns={'index':'Sex','Sex':'Count'})\n",
    "sex=merged2['Sex'].value_counts()\n",
    "sex"
   ]
  },
  {
   "cell_type": "code",
   "execution_count": 7,
   "metadata": {},
   "outputs": [
    {
     "data": {
      "text/plain": [
       "<matplotlib.axes._subplots.AxesSubplot at 0x1b7e4070f60>"
      ]
     },
     "execution_count": 7,
     "metadata": {},
     "output_type": "execute_result"
    },
    {
     "data": {
      "image/png": "[encoded data removed]",
      "text/plain": [
       "<Figure size 432x288 with 1 Axes>"
      ]
     },
     "metadata": {},
     "output_type": "display_data"
    }
   ],
   "source": [
    "# Generate a pie plot showing the distribution of female versus male mice using pandas\n",
    "malemice=125\n",
    "femalemice=124\n",
    "\n",
    "labels=[\"Males\",\"Females\"]\n",
    "sizes=[malemice,femalemice]\n",
    "colors=[\"dodgerblue\",\"lightpink\"]\n",
    "gender=pd.DataFrame({\"Gender\":pd.Series(labels),\"Study Sample\":pd.Series(sizes)})\n",
    "gender=gender.set_index(\"Gender\")\n",
    "gender.plot.pie(y=\"Study Sample\",autopct='%1.1f%%',colors=colors, legend=False,\n",
    "                shadow=True,startangle=140,title=\"Gender Demographics of Mice in Study\", explode=(.1,0))"
   ]
  },
  {
   "cell_type": "code",
   "execution_count": 8,
   "metadata": {},
   "outputs": [
    {
     "data": {
      "text/plain": [
       "Text(0.5, 1.0, 'Gender Demographics of Mice In Study')"
      ]
     },
     "execution_count": 8,
     "metadata": {},
     "output_type": "execute_result"
    },
    {
     "data": {
      "image/png": "[encoded data removed]",
      "text/plain": [
       "<Figure size 432x288 with 1 Axes>"
      ]
     },
     "metadata": {},
     "output_type": "display_data"
    }
   ],
   "source": [
    "# Generate a pie plot showing the distribution of female versus male mice using pyplot\n",
    "plt.pie(sizes,labels=labels, colors=colors,\n",
    "        autopct=\"%1.1f%%\", shadow=True, startangle=140, explode=(.1,0))\n",
    "plt.title(\"Gender Demographics of Mice In Study\")"
   ]
  },
  {
   "cell_type": "markdown",
   "metadata": {},
   "source": [
    "## Quartiles, outliers and boxplots\n"
   ]
  },
  {
   "cell_type": "code",
   "execution_count": 9,
   "metadata": {},
   "outputs": [
    {
     "data": {
      "text/html": [
       "<div>\n",
       "<style scoped>\n",
       "    .dataframe tbody tr th:only-of-type {\n",
       "        vertical-align: middle;\n",
       "    }\n",
       "\n",
       "    .dataframe tbody tr th {\n",
       "        vertical-align: top;\n",
       "    }\n",
       "\n",
       "    .dataframe thead th {\n",
       "        text-align: right;\n",
       "    }\n",
       "</style>\n",
       "<table border=\"1\" class=\"dataframe\">\n",
       "  <thead>\n",
       "    <tr style=\"text-align: right;\">\n",
       "      <th></th>\n",
       "      <th>Mouse ID</th>\n",
       "      <th>Timepoint</th>\n",
       "      <th>Drug Regimen</th>\n",
       "      <th>Sex</th>\n",
       "      <th>Age_months</th>\n",
       "      <th>Weight (g)</th>\n",
       "      <th>Tumor Volume (mm3)</th>\n",
       "      <th>Metastatic Sites</th>\n",
       "    </tr>\n",
       "  </thead>\n",
       "  <tbody>\n",
       "    <tr>\n",
       "      <th>0</th>\n",
       "      <td>a203</td>\n",
       "      <td>45</td>\n",
       "      <td>Infubinol</td>\n",
       "      <td>Female</td>\n",
       "      <td>20</td>\n",
       "      <td>23</td>\n",
       "      <td>67.973419</td>\n",
       "      <td>2</td>\n",
       "    </tr>\n",
       "    <tr>\n",
       "      <th>1</th>\n",
       "      <td>a251</td>\n",
       "      <td>45</td>\n",
       "      <td>Infubinol</td>\n",
       "      <td>Female</td>\n",
       "      <td>21</td>\n",
       "      <td>25</td>\n",
       "      <td>65.525743</td>\n",
       "      <td>1</td>\n",
       "    </tr>\n",
       "    <tr>\n",
       "      <th>2</th>\n",
       "      <td>a262</td>\n",
       "      <td>45</td>\n",
       "      <td>Placebo</td>\n",
       "      <td>Female</td>\n",
       "      <td>17</td>\n",
       "      <td>29</td>\n",
       "      <td>70.717621</td>\n",
       "      <td>4</td>\n",
       "    </tr>\n",
       "    <tr>\n",
       "      <th>3</th>\n",
       "      <td>a275</td>\n",
       "      <td>45</td>\n",
       "      <td>Ceftamin</td>\n",
       "      <td>Female</td>\n",
       "      <td>20</td>\n",
       "      <td>28</td>\n",
       "      <td>62.999356</td>\n",
       "      <td>3</td>\n",
       "    </tr>\n",
       "    <tr>\n",
       "      <th>4</th>\n",
       "      <td>a366</td>\n",
       "      <td>30</td>\n",
       "      <td>Stelasyn</td>\n",
       "      <td>Female</td>\n",
       "      <td>16</td>\n",
       "      <td>29</td>\n",
       "      <td>63.440686</td>\n",
       "      <td>1</td>\n",
       "    </tr>\n",
       "  </tbody>\n",
       "</table>\n",
       "</div>"
      ],
      "text/plain": [
       "  Mouse ID  Timepoint Drug Regimen     Sex  Age_months  Weight (g)  \\\n",
       "0     a203         45    Infubinol  Female          20          23   \n",
       "1     a251         45    Infubinol  Female          21          25   \n",
       "2     a262         45      Placebo  Female          17          29   \n",
       "3     a275         45     Ceftamin  Female          20          28   \n",
       "4     a366         30     Stelasyn  Female          16          29   \n",
       "\n",
       "   Tumor Volume (mm3)  Metastatic Sites  \n",
       "0           67.973419                 2  \n",
       "1           65.525743                 1  \n",
       "2           70.717621                 4  \n",
       "3           62.999356                 3  \n",
       "4           63.440686                 1  "
      ]
     },
     "execution_count": 9,
     "metadata": {},
     "output_type": "execute_result"
    }
   ],
   "source": [
    "# Calculate the final tumor volume of each mouse across four of the most promising treatment regimens. \n",
    "ftumor = merged.groupby([\"Mouse ID\"]).max()\n",
    "ftumor = ftumor.reset_index()\n",
    "fmerge = ftumor[['Mouse ID','Timepoint']].merge(merged,on=['Mouse ID','Timepoint'],how=\"left\")\n",
    "fmerge.head()"
   ]
  },
  {
   "cell_type": "code",
   "execution_count": 10,
   "metadata": {},
   "outputs": [
    {
     "name": "stdout",
     "output_type": "stream",
     "text": [
      "Outliers in the Capomulin group: []\n"
     ]
    }
   ],
   "source": [
    "#Calculate the IQR and quantitatively determine if there are any potential outliers. \n",
    "\n",
    "#Capomulin final tumor volume quartiles and outliers \n",
    "fcap=fmerge[fmerge['Drug Regimen']=='Capomulin']\n",
    "capvol=fcap['Tumor Volume (mm3)']\n",
    "capqs = capvol.quantile([.25,.5,.75])\n",
    "capq1 = capqs[0.25]\n",
    "capq3 = capqs[0.75]\n",
    "capiqr = capq3-capq1\n",
    "capuplim=capq3+(1.5*capiqr)\n",
    "caplowlim=capq1-(1.5*capiqr)\n",
    "capoutliers=[value for value in capvol if (value>capuplim) | (value<caplowlim)]\n",
    "print(f\"Outliers in the Capomulin group: {capoutliers}\")"
   ]
  },
  {
   "cell_type": "code",
   "execution_count": 11,
   "metadata": {},
   "outputs": [
    {
     "name": "stdout",
     "output_type": "stream",
     "text": [
      "Outliers in the Ceftamin group: []\n"
     ]
    }
   ],
   "source": [
    "#Ceftamin final tumor volume quartiles and outliers \n",
    "fcef=fmerge[fmerge['Drug Regimen']=='Ceftamin']\n",
    "cefvol=fcef['Tumor Volume (mm3)']\n",
    "cefqs = cefvol.quantile([.25,.5,.75])\n",
    "cefq1 = cefqs[0.25]\n",
    "cefq3 = cefqs[0.75]\n",
    "cefiqr = cefq3-cefq1\n",
    "cefuplim=cefq3+(1.5*cefiqr)\n",
    "ceflowlim=cefq1-(1.5*cefiqr)\n",
    "cefoutliers=[value for value in cefvol if(value>cefuplim) | (value<ceflowlim)]\n",
    "print(f\"Outliers in the Ceftamin group: {cefoutliers}\" )"
   ]
  },
  {
   "cell_type": "code",
   "execution_count": 12,
   "metadata": {},
   "outputs": [
    {
     "name": "stdout",
     "output_type": "stream",
     "text": [
      "Outliers in the Infubinol group: [36.321345799999996]\n"
     ]
    }
   ],
   "source": [
    "#Infubinol final tumor volume quartiles and outliers \n",
    "finf=fmerge[fmerge['Drug Regimen']=='Infubinol']\n",
    "infvol=finf['Tumor Volume (mm3)']\n",
    "infqs = infvol.quantile([.25,.5,.75])\n",
    "infq1 = infqs[0.25]\n",
    "infq3 = infqs[0.75]\n",
    "infiqr = infq3-infq1\n",
    "infuplim=infq3+(1.5*infiqr)\n",
    "inflowlim=infq1-(1.5*infiqr)\n",
    "infoutliers=[value for value in infvol if (value>infuplim) | (value<inflowlim)]\n",
    "print(f\"Outliers in the Infubinol group: {infoutliers}\")"
   ]
  },
  {
   "cell_type": "code",
   "execution_count": 13,
   "metadata": {},
   "outputs": [
    {
     "name": "stdout",
     "output_type": "stream",
     "text": [
      "Outliers in the Ramicane group: []\n"
     ]
    }
   ],
   "source": [
    "#Ramicane final tumor volume quartiles and outliers \n",
    "fram=fmerge[fmerge['Drug Regimen']=='Ramicane']\n",
    "ramvol=fram['Tumor Volume (mm3)']\n",
    "ramqs = ramvol.quantile([.25,.5,.75])\n",
    "ramq1 = ramqs[0.25]\n",
    "ramq3 = ramqs[0.75]\n",
    "ramiqr = ramq3-ramq1\n",
    "ramuplim=ramq3+(1.5*ramiqr)\n",
    "ramlowlim=ramq1-(1.5*ramiqr)\n",
    "ramoutliers=[value for value in ramvol if (value>ramuplim) | (value<ramlowlim)]\n",
    "print(f\"Outliers in the Ramicane group: {ramoutliers}\")"
   ]
  },
  {
   "cell_type": "code",
   "execution_count": 14,
   "metadata": {},
   "outputs": [
    {
     "data": {
      "image/png": "[encoded data removed]",
      "text/plain": [
       "<Figure size 432x288 with 1 Axes>"
      ]
     },
     "metadata": {
      "needs_background": "light"
     },
     "output_type": "display_data"
    }
   ],
   "source": [
    "# Generate a box plot of the final tumor volume of each mouse across four regimens of interest\n",
    "data = [capvol, cefvol, infvol, ramvol]\n",
    "fig1, ax1 = plt.subplots()\n",
    "flierprops=dict(markerfacecolor='limegreen', marker='o')\n",
    "ax1.boxplot(data, flierprops=flierprops)\n",
    "plt.ylabel('Tumor Volume (mm3)')\n",
    "plt.title('Final Tumor Volume Distribution for Four Drug Treatment Groups')\n",
    "plt.xticks([1, 2, 3, 4], ['Capomulin','Ceftamin','Infubinol','Ramicane'], rotation='vertical')\n",
    "plt.show()"
   ]
  },
  {
   "cell_type": "markdown",
   "metadata": {},
   "source": [
    "## Line and scatter plots"
   ]
  },
  {
   "cell_type": "code",
   "execution_count": 15,
   "metadata": {},
   "outputs": [
    {
     "data": {
      "image/png": "[encoded data removed]",
      "text/plain": [
       "<Figure size 432x288 with 1 Axes>"
      ]
     },
     "metadata": {
      "needs_background": "light"
     },
     "output_type": "display_data"
    }
   ],
   "source": [
    "# Generate a line plot of time point versus tumor volume for a mouse treated with Capomulin\n",
    "s185=merged.loc[merged['Mouse ID']=='s185']\n",
    "s185.head(10)\n",
    "\n",
    "timepoint=[value for value in s185['Timepoint']]\n",
    "volume=[value for value in s185['Tumor Volume (mm3)']]\n",
    "\n",
    "plt.plot(timepoint,volume, marker='o')\n",
    "plt.title('Tumor Volume Progression for Animal #s185')\n",
    "plt.xlabel('Timepoint (Days)')\n",
    "plt.ylabel('Tumor Volume (mm3)')\n",
    "plt.grid(alpha=.5)"
   ]
  },
  {
   "cell_type": "code",
   "execution_count": 16,
   "metadata": {},
   "outputs": [
    {
     "data": {
      "text/plain": [
       "Text(0, 0.5, 'Average Tumor Volume (mm3)')"
      ]
     },
     "execution_count": 16,
     "metadata": {},
     "output_type": "execute_result"
    },
    {
     "data": {
      "image/png": "[encoded data removed]",
      "text/plain": [
       "<Figure size 432x288 with 1 Axes>"
      ]
     },
     "metadata": {
      "needs_background": "light"
     },
     "output_type": "display_data"
    }
   ],
   "source": [
    "# Generate a scatter plot of mouse weight versus average tumor volume for the Capomulin regimen\n",
    "cap_df=merged.loc[merged['Drug Regimen']=='Capomulin']\n",
    "cap_df=cap_df[['Mouse ID','Drug Regimen','Weight (g)','Tumor Volume (mm3)']]\n",
    "cap_group=cap_df.groupby('Mouse ID').mean()\n",
    "\n",
    "weight=cap_group['Weight (g)']\n",
    "tvolume=cap_group['Tumor Volume (mm3)']\n",
    "\n",
    "plt.scatter(weight,tvolume)\n",
    "plt.title('Mouse Weight vs Average Tumor Volume (mm3)')\n",
    "plt.xlabel('Weight (g)')\n",
    "plt.ylabel('Average Tumor Volume (mm3)')"
   ]
  },
  {
   "cell_type": "code",
   "execution_count": 17,
   "metadata": {},
   "outputs": [
    {
     "name": "stdout",
     "output_type": "stream",
     "text": [
      "y = 0.95x + 21.55\n",
      "R2= 0.8419363424694718, p-value= 1.3225722434712642e-07\n"
     ]
    },
    {
     "data": {
      "image/png": "[encoded data removed]",
      "text/plain": [
       "<Figure size 432x288 with 1 Axes>"
      ]
     },
     "metadata": {
      "needs_background": "light"
     },
     "output_type": "display_data"
    }
   ],
   "source": [
    "# Calculate the correlation coefficient and linear regression model for mouse weight and average tumor\n",
    "#volume for the Capomulin regimen\n",
    "slope, intercept, rvalue, pvalue, stderr = st.linregress(weight, tvolume)\n",
    "regress_values = weight * slope + intercept\n",
    "line_eq = \"y = \" + str(round(slope,2)) + \"x + \" + str(round(intercept,2))\n",
    "plt.scatter(weight, tvolume)\n",
    "plt.plot(weight,regress_values,\"r-\")\n",
    "print(line_eq)\n",
    "correlation=st.pearsonr(weight,tvolume)\n",
    "print(f\"R2= {rvalue}, p-value= {pvalue}\")\n",
    "plt.title('Mouse Weight vs Average Tumor Volume')\n",
    "plt.xlabel('Mouse Weight (g)')\n",
    "plt.ylabel('Average Tumor Volume (mm3)')\n",
    "plt.grid(alpha=.5)\n",
    "plt.annotate(line_eq,(20,36),fontsize=15,color=\"red\")\n",
    "plt.show()"
   ]
  },
  {
   "cell_type": "code",
   "execution_count": null,
   "metadata": {},
   "outputs": [],
   "source": []
  }
 ],
 "metadata": {
  "anaconda-cloud": {},
  "kernelspec": {
   "display_name": "Python 3",
   "language": "python",
   "name": "python3"
  },
  "language_info": {
   "codemirror_mode": {
    "name": "ipython",
    "version": 3
   },
   "file_extension": ".py",
   "mimetype": "text/x-python",
   "name": "python",
   "nbconvert_exporter": "python",
   "pygments_lexer": "ipython3",
   "version": "3.7.3"
  }
 },
 "nbformat": 4,
 "nbformat_minor": 2
}
